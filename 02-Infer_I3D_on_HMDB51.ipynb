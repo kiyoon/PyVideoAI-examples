{
 "cells": [
  {
   "cell_type": "markdown",
   "id": "c44eb80d-bdd5-4f1f-954f-c8c10301d679",
   "metadata": {
    "tags": []
   },
   "source": [
    "Let's infer the HMDB-51 data using the I3D network.  \n",
    "\n",
    "First, we want to download the pre-trained weights from the [MODEL_ZOO.md](https://github.com/kiyoon/PyVideoAI/blob/master/MODEL_ZOO.md)  \n",
    "We'll use the I3D pretrained on the HMDB-51 dataset, with 8-frame input.  \n",
    "\n",
    "Note that the path to the pretrained weights is defined in `model_configs/i3d_resnet50.py` as below.  \n",
    "\n",
    "```python\n",
    "hmdb_pretrained_path_8x8 = os.path.join(DATA_DIR, 'pretrained', 'hmdb/i3d_resnet50/crop224_lr0001_batch8_8x8_largejit_plateau_1scrop5tcrop_split1-epoch_0199.pth')\n",
    "```"
   ]
  },
  {
   "cell_type": "code",
   "execution_count": 74,
   "id": "4b00c0c1-2cb7-41fa-aff9-916f779a8cda",
   "metadata": {
    "tags": []
   },
   "outputs": [
    {
     "name": "stdout",
     "output_type": "stream",
     "text": [
      "env: PYVIDEOAI_DIR=/home/kiyoon/project/PyVideoAI\n",
      "env: DATA_DIR=/home/kiyoon/project/PyVideoAI/data\n",
      "env: HDD_PATH=/storage/kiyoon\n"
     ]
    }
   ],
   "source": [
    "# Environments for future use\n",
    "\n",
    "from pyvideoai.config import PYVIDEOAI_DIR, DATA_DIR\n",
    "%env PYVIDEOAI_DIR=$PYVIDEOAI_DIR\n",
    "%env DATA_DIR=$DATA_DIR\n",
    "\n",
    "# !! CHANGE BELOW\n",
    "%env HDD_PATH=/storage/kiyoon"
   ]
  },
  {
   "cell_type": "code",
   "execution_count": 5,
   "id": "ec6efdac-059c-46d4-a419-8856d6b8c3be",
   "metadata": {},
   "outputs": [
    {
     "name": "stdout",
     "output_type": "stream",
     "text": [
      "--2021-06-21 02:14:54--  https://uoe-my.sharepoint.com/:u:/g/personal/s1884147_ed_ac_uk/EefmKjHu_iRPvN2JTqG2QNYBoCs18kbX0ajidiKOuWEgZQ?e=9oGJ0v&download=1\n",
      "Resolving uoe-my.sharepoint.com (uoe-my.sharepoint.com)... 13.107.136.9\n",
      "Connecting to uoe-my.sharepoint.com (uoe-my.sharepoint.com)|13.107.136.9|:443... connected.\n",
      "HTTP request sent, awaiting response... 302 Found\n",
      "Location: /personal/s1884147_ed_ac_uk/Documents/share/UniversityOfEdinburgh/PyVideoAI/model_zoo/hmdb/i3d_resnet50/hmdb-i3d_resnet50-crop224_lr0001_batch8_8x8_largejit_plateau_1scrop5tcrop_split1-epoch_0199.pth?originalPath=aHR0cHM6Ly91b2UtbXkuc2hhcmVwb2ludC5jb20vOnU6L2cvcGVyc29uYWwvczE4ODQxNDdfZWRfYWNfdWsvRWVmbUtqSHVfaVJQdk4ySlRxRzJRTllCb0NzMThrYlgwYWppZGlLT3VXRWdaUT9ydGltZT16Y3VFNDNzMDJVZw [following]\n",
      "--2021-06-21 02:14:55--  https://uoe-my.sharepoint.com/personal/s1884147_ed_ac_uk/Documents/share/UniversityOfEdinburgh/PyVideoAI/model_zoo/hmdb/i3d_resnet50/hmdb-i3d_resnet50-crop224_lr0001_batch8_8x8_largejit_plateau_1scrop5tcrop_split1-epoch_0199.pth?originalPath=aHR0cHM6Ly91b2UtbXkuc2hhcmVwb2ludC5jb20vOnU6L2cvcGVyc29uYWwvczE4ODQxNDdfZWRfYWNfdWsvRWVmbUtqSHVfaVJQdk4ySlRxRzJRTllCb0NzMThrYlgwYWppZGlLT3VXRWdaUT9ydGltZT16Y3VFNDNzMDJVZw\n",
      "Reusing existing connection to uoe-my.sharepoint.com:443.\n",
      "HTTP request sent, awaiting response... 200 OK\n",
      "Length: 219013464 (209M) [application/octet-stream]\n",
      "Saving to: ‘/home/kiyoon/project/PyVideoAI/data/pretrained/hmdb/i3d_resnet50/crop224_lr0001_batch8_8x8_largejit_plateau_1scrop5tcrop_split1-epoch_0199.pth’\n",
      "\n",
      "/home/kiyoon/projec 100%[===================>] 208.87M  23.1MB/s    in 11s     \n",
      "\n",
      "2021-06-21 02:15:07 (18.5 MB/s) - ‘/home/kiyoon/project/PyVideoAI/data/pretrained/hmdb/i3d_resnet50/crop224_lr0001_batch8_8x8_largejit_plateau_1scrop5tcrop_split1-epoch_0199.pth’ saved [219013464/219013464]\n",
      "\n"
     ]
    }
   ],
   "source": [
    "# Link the pretrained weight directory to HDD\n",
    "!mkdir -p \"$HDD_PATH/pretrained/hmdb/i3d_resnet50\"\n",
    "!ln -s \"$HDD_PATH/pretrained\" \"$DATA_DIR/\"\n",
    "\n",
    "# Download\n",
    "!wget 'https://uoe-my.sharepoint.com/:u:/g/personal/s1884147_ed_ac_uk/EefmKjHu_iRPvN2JTqG2QNYBoCs18kbX0ajidiKOuWEgZQ?e=9oGJ0v&download=1' -O \"$DATA_DIR/pretrained/hmdb/i3d_resnet50/crop224_lr0001_batch8_8x8_largejit_plateau_1scrop5tcrop_split1-epoch_0199.pth\""
   ]
  },
  {
   "cell_type": "markdown",
   "id": "883c762f-6e2b-4841-91c3-82a299e00600",
   "metadata": {},
   "source": [
    "Now we have our datasets processed, and the pretrained weights ready.  \n",
    "We want to use three config files.  \n",
    "- `hmdb.py` in `dataset_configs`,  \n",
    "- `i3d_resnet50.py` in `model_configs`,  \n",
    "- `hmdb/i3d_resnet50-crop224_batch8_8x8_1scrop5tcrop_hmdbsplit1pretrained.py` in `exp_configs`.\n",
    "\n",
    "You'll need at least 6GiB of VRAM on your GPU.  \n",
    "If this isn't the case or you have more, change the batch size in `exp_configs/hmdb/i3d_resnet50-crop224_batch8_8x8_1scrop5tcrop_hmdbsplit1pretrained.py`."
   ]
  },
  {
   "cell_type": "code",
   "execution_count": 14,
   "id": "02bf4ff2-68f2-4f49-a76a-eef25f45ef8a",
   "metadata": {
    "scrolled": true,
    "tags": []
   },
   "outputs": [
    {
     "name": "stderr",
     "output_type": "stream",
     "text": [
      "experiment_utils.experiment_builder:  103 - INFO - Telegram bot initialised with keys in /home/kiyoon/project/PyVideoAI/tools/key.ini and using the bot number 0\n",
      "pyvideoai.val_multiprocess:  112 - INFO - git hash: e6eb6a3b9b4332a766947d164f48f001c1e5399b\n",
      "pyvideoai.val_multiprocess:  115 - INFO - args: {\n",
      "    \"local_world_size\": 1,\n",
      "    \"shard_id\": 0,\n",
      "    \"num_shards\": 1,\n",
      "    \"init_method\": \"tcp://localhost:19999\",\n",
      "    \"backend\": \"nccl\",\n",
      "    \"experiment_root\": \"/storage/kiyoon/experiments\",\n",
      "    \"dataset\": \"hmdb\",\n",
      "    \"model\": \"i3d_resnet50\",\n",
      "    \"experiment_name\": \"crop224_batch8_8x8_1scrop5tcrop_hmdbsplit1pretrained\",\n",
      "    \"dataset_channel\": null,\n",
      "    \"model_channel\": null,\n",
      "    \"experiment_channel\": null,\n",
      "    \"load_epoch\": null,\n",
      "    \"seed\": 12,\n",
      "    \"mode\": \"oneclip\",\n",
      "    \"save_predictions\": true,\n",
      "    \"dataloader_num_workers\": 4,\n",
      "    \"telegram_bot_idx\": 0\n",
      "}\n",
      "pyvideoai.dataloaders.frames_densesample_dataset:   95 - INFO - Constructing video dataset test...\n",
      "pyvideoai.dataloaders.frames_densesample_dataset:  140 - INFO - Constructing video dataloader (size: 1530) from /home/kiyoon/project/PyVideoAI/data/hmdb51/splits_frames/test1.csv\n"
     ]
    },
    {
     "name": "stdout",
     "output_type": "stream",
     "text": [
      "env: CUDA_VISIBLE_DEVICES=0\n"
     ]
    },
    {
     "name": "stderr",
     "output_type": "stream",
     "text": [
      "pyvideoai.utils.misc:   52 - INFO - Model:\n",
      "ResNetModel(\n",
      "  (s1): VideoModelStem(\n",
      "    (pathway0_stem): ResNetBasicStem(\n",
      "      (conv): Conv3d(3, 64, kernel_size=[5, 7, 7], stride=[1, 2, 2], padding=[2, 3, 3], bias=False)\n",
      "      (bn): BatchNorm3d(64, eps=1e-05, momentum=0.1, affine=True, track_running_stats=True)\n",
      "      (relu): ReLU(inplace=True)\n",
      "      (pool_layer): MaxPool3d(kernel_size=[1, 3, 3], stride=[1, 2, 2], padding=[0, 1, 1], dilation=1, ceil_mode=False)\n",
      "    )\n",
      "  )\n",
      "  (s2): ResStage(\n",
      "    (pathway0_res0): ResBlock(\n",
      "      (branch1): Conv3d(64, 256, kernel_size=(1, 1, 1), stride=[1, 1, 1], bias=False)\n",
      "      (branch1_bn): BatchNorm3d(256, eps=1e-05, momentum=0.1, affine=True, track_running_stats=True)\n",
      "      (branch2): BottleneckTransform(\n",
      "        (a): Conv3d(64, 64, kernel_size=[3, 1, 1], stride=[1, 1, 1], padding=[1, 0, 0], bias=False)\n",
      "        (a_bn): BatchNorm3d(64, eps=1e-05, momentum=0.1, affine=True, track_running_stats=True)\n",
      "        (a_relu): ReLU(inplace=True)\n",
      "        (b): Conv3d(64, 64, kernel_size=[1, 3, 3], stride=[1, 1, 1], padding=[0, 1, 1], dilation=[1, 1, 1], bias=False)\n",
      "        (b_bn): BatchNorm3d(64, eps=1e-05, momentum=0.1, affine=True, track_running_stats=True)\n",
      "        (b_relu): ReLU(inplace=True)\n",
      "        (c): Conv3d(64, 256, kernel_size=[1, 1, 1], stride=[1, 1, 1], padding=[0, 0, 0], bias=False)\n",
      "        (c_bn): BatchNorm3d(256, eps=1e-05, momentum=0.1, affine=True, track_running_stats=True)\n",
      "      )\n",
      "      (relu): ReLU(inplace=True)\n",
      "    )\n",
      "    (pathway0_res1): ResBlock(\n",
      "      (branch2): BottleneckTransform(\n",
      "        (a): Conv3d(256, 64, kernel_size=[3, 1, 1], stride=[1, 1, 1], padding=[1, 0, 0], bias=False)\n",
      "        (a_bn): BatchNorm3d(64, eps=1e-05, momentum=0.1, affine=True, track_running_stats=True)\n",
      "        (a_relu): ReLU(inplace=True)\n",
      "        (b): Conv3d(64, 64, kernel_size=[1, 3, 3], stride=[1, 1, 1], padding=[0, 1, 1], dilation=[1, 1, 1], bias=False)\n",
      "        (b_bn): BatchNorm3d(64, eps=1e-05, momentum=0.1, affine=True, track_running_stats=True)\n",
      "        (b_relu): ReLU(inplace=True)\n",
      "        (c): Conv3d(64, 256, kernel_size=[1, 1, 1], stride=[1, 1, 1], padding=[0, 0, 0], bias=False)\n",
      "        (c_bn): BatchNorm3d(256, eps=1e-05, momentum=0.1, affine=True, track_running_stats=True)\n",
      "      )\n",
      "      (relu): ReLU(inplace=True)\n",
      "    )\n",
      "    (pathway0_res2): ResBlock(\n",
      "      (branch2): BottleneckTransform(\n",
      "        (a): Conv3d(256, 64, kernel_size=[3, 1, 1], stride=[1, 1, 1], padding=[1, 0, 0], bias=False)\n",
      "        (a_bn): BatchNorm3d(64, eps=1e-05, momentum=0.1, affine=True, track_running_stats=True)\n",
      "        (a_relu): ReLU(inplace=True)\n",
      "        (b): Conv3d(64, 64, kernel_size=[1, 3, 3], stride=[1, 1, 1], padding=[0, 1, 1], dilation=[1, 1, 1], bias=False)\n",
      "        (b_bn): BatchNorm3d(64, eps=1e-05, momentum=0.1, affine=True, track_running_stats=True)\n",
      "        (b_relu): ReLU(inplace=True)\n",
      "        (c): Conv3d(64, 256, kernel_size=[1, 1, 1], stride=[1, 1, 1], padding=[0, 0, 0], bias=False)\n",
      "        (c_bn): BatchNorm3d(256, eps=1e-05, momentum=0.1, affine=True, track_running_stats=True)\n",
      "      )\n",
      "      (relu): ReLU(inplace=True)\n",
      "    )\n",
      "  )\n",
      "  (pathway0_pool): MaxPool3d(kernel_size=[2, 1, 1], stride=[2, 1, 1], padding=[0, 0, 0], dilation=1, ceil_mode=False)\n",
      "  (s3): ResStage(\n",
      "    (pathway0_res0): ResBlock(\n",
      "      (branch1): Conv3d(256, 512, kernel_size=(1, 1, 1), stride=[1, 2, 2], bias=False)\n",
      "      (branch1_bn): BatchNorm3d(512, eps=1e-05, momentum=0.1, affine=True, track_running_stats=True)\n",
      "      (branch2): BottleneckTransform(\n",
      "        (a): Conv3d(256, 128, kernel_size=[3, 1, 1], stride=[1, 1, 1], padding=[1, 0, 0], bias=False)\n",
      "        (a_bn): BatchNorm3d(128, eps=1e-05, momentum=0.1, affine=True, track_running_stats=True)\n",
      "        (a_relu): ReLU(inplace=True)\n",
      "        (b): Conv3d(128, 128, kernel_size=[1, 3, 3], stride=[1, 2, 2], padding=[0, 1, 1], dilation=[1, 1, 1], bias=False)\n",
      "        (b_bn): BatchNorm3d(128, eps=1e-05, momentum=0.1, affine=True, track_running_stats=True)\n",
      "        (b_relu): ReLU(inplace=True)\n",
      "        (c): Conv3d(128, 512, kernel_size=[1, 1, 1], stride=[1, 1, 1], padding=[0, 0, 0], bias=False)\n",
      "        (c_bn): BatchNorm3d(512, eps=1e-05, momentum=0.1, affine=True, track_running_stats=True)\n",
      "      )\n",
      "      (relu): ReLU(inplace=True)\n",
      "    )\n",
      "    (pathway0_res1): ResBlock(\n",
      "      (branch2): BottleneckTransform(\n",
      "        (a): Conv3d(512, 128, kernel_size=[1, 1, 1], stride=[1, 1, 1], padding=[0, 0, 0], bias=False)\n",
      "        (a_bn): BatchNorm3d(128, eps=1e-05, momentum=0.1, affine=True, track_running_stats=True)\n",
      "        (a_relu): ReLU(inplace=True)\n",
      "        (b): Conv3d(128, 128, kernel_size=[1, 3, 3], stride=[1, 1, 1], padding=[0, 1, 1], dilation=[1, 1, 1], bias=False)\n",
      "        (b_bn): BatchNorm3d(128, eps=1e-05, momentum=0.1, affine=True, track_running_stats=True)\n",
      "        (b_relu): ReLU(inplace=True)\n",
      "        (c): Conv3d(128, 512, kernel_size=[1, 1, 1], stride=[1, 1, 1], padding=[0, 0, 0], bias=False)\n",
      "        (c_bn): BatchNorm3d(512, eps=1e-05, momentum=0.1, affine=True, track_running_stats=True)\n",
      "      )\n",
      "      (relu): ReLU(inplace=True)\n",
      "    )\n",
      "    (pathway0_res2): ResBlock(\n",
      "      (branch2): BottleneckTransform(\n",
      "        (a): Conv3d(512, 128, kernel_size=[3, 1, 1], stride=[1, 1, 1], padding=[1, 0, 0], bias=False)\n",
      "        (a_bn): BatchNorm3d(128, eps=1e-05, momentum=0.1, affine=True, track_running_stats=True)\n",
      "        (a_relu): ReLU(inplace=True)\n",
      "        (b): Conv3d(128, 128, kernel_size=[1, 3, 3], stride=[1, 1, 1], padding=[0, 1, 1], dilation=[1, 1, 1], bias=False)\n",
      "        (b_bn): BatchNorm3d(128, eps=1e-05, momentum=0.1, affine=True, track_running_stats=True)\n",
      "        (b_relu): ReLU(inplace=True)\n",
      "        (c): Conv3d(128, 512, kernel_size=[1, 1, 1], stride=[1, 1, 1], padding=[0, 0, 0], bias=False)\n",
      "        (c_bn): BatchNorm3d(512, eps=1e-05, momentum=0.1, affine=True, track_running_stats=True)\n",
      "      )\n",
      "      (relu): ReLU(inplace=True)\n",
      "    )\n",
      "    (pathway0_res3): ResBlock(\n",
      "      (branch2): BottleneckTransform(\n",
      "        (a): Conv3d(512, 128, kernel_size=[1, 1, 1], stride=[1, 1, 1], padding=[0, 0, 0], bias=False)\n",
      "        (a_bn): BatchNorm3d(128, eps=1e-05, momentum=0.1, affine=True, track_running_stats=True)\n",
      "        (a_relu): ReLU(inplace=True)\n",
      "        (b): Conv3d(128, 128, kernel_size=[1, 3, 3], stride=[1, 1, 1], padding=[0, 1, 1], dilation=[1, 1, 1], bias=False)\n",
      "        (b_bn): BatchNorm3d(128, eps=1e-05, momentum=0.1, affine=True, track_running_stats=True)\n",
      "        (b_relu): ReLU(inplace=True)\n",
      "        (c): Conv3d(128, 512, kernel_size=[1, 1, 1], stride=[1, 1, 1], padding=[0, 0, 0], bias=False)\n",
      "        (c_bn): BatchNorm3d(512, eps=1e-05, momentum=0.1, affine=True, track_running_stats=True)\n",
      "      )\n",
      "      (relu): ReLU(inplace=True)\n",
      "    )\n",
      "  )\n",
      "  (s4): ResStage(\n",
      "    (pathway0_res0): ResBlock(\n",
      "      (branch1): Conv3d(512, 1024, kernel_size=(1, 1, 1), stride=[1, 2, 2], bias=False)\n",
      "      (branch1_bn): BatchNorm3d(1024, eps=1e-05, momentum=0.1, affine=True, track_running_stats=True)\n",
      "      (branch2): BottleneckTransform(\n",
      "        (a): Conv3d(512, 256, kernel_size=[3, 1, 1], stride=[1, 1, 1], padding=[1, 0, 0], bias=False)\n",
      "        (a_bn): BatchNorm3d(256, eps=1e-05, momentum=0.1, affine=True, track_running_stats=True)\n",
      "        (a_relu): ReLU(inplace=True)\n",
      "        (b): Conv3d(256, 256, kernel_size=[1, 3, 3], stride=[1, 2, 2], padding=[0, 1, 1], dilation=[1, 1, 1], bias=False)\n",
      "        (b_bn): BatchNorm3d(256, eps=1e-05, momentum=0.1, affine=True, track_running_stats=True)\n",
      "        (b_relu): ReLU(inplace=True)\n",
      "        (c): Conv3d(256, 1024, kernel_size=[1, 1, 1], stride=[1, 1, 1], padding=[0, 0, 0], bias=False)\n",
      "        (c_bn): BatchNorm3d(1024, eps=1e-05, momentum=0.1, affine=True, track_running_stats=True)\n",
      "      )\n",
      "      (relu): ReLU(inplace=True)\n",
      "    )\n",
      "    (pathway0_res1): ResBlock(\n",
      "      (branch2): BottleneckTransform(\n",
      "        (a): Conv3d(1024, 256, kernel_size=[1, 1, 1], stride=[1, 1, 1], padding=[0, 0, 0], bias=False)\n",
      "        (a_bn): BatchNorm3d(256, eps=1e-05, momentum=0.1, affine=True, track_running_stats=True)\n",
      "        (a_relu): ReLU(inplace=True)\n",
      "        (b): Conv3d(256, 256, kernel_size=[1, 3, 3], stride=[1, 1, 1], padding=[0, 1, 1], dilation=[1, 1, 1], bias=False)\n",
      "        (b_bn): BatchNorm3d(256, eps=1e-05, momentum=0.1, affine=True, track_running_stats=True)\n",
      "        (b_relu): ReLU(inplace=True)\n",
      "        (c): Conv3d(256, 1024, kernel_size=[1, 1, 1], stride=[1, 1, 1], padding=[0, 0, 0], bias=False)\n",
      "        (c_bn): BatchNorm3d(1024, eps=1e-05, momentum=0.1, affine=True, track_running_stats=True)\n",
      "      )\n",
      "      (relu): ReLU(inplace=True)\n",
      "    )\n",
      "    (pathway0_res2): ResBlock(\n",
      "      (branch2): BottleneckTransform(\n",
      "        (a): Conv3d(1024, 256, kernel_size=[3, 1, 1], stride=[1, 1, 1], padding=[1, 0, 0], bias=False)\n",
      "        (a_bn): BatchNorm3d(256, eps=1e-05, momentum=0.1, affine=True, track_running_stats=True)\n",
      "        (a_relu): ReLU(inplace=True)\n",
      "        (b): Conv3d(256, 256, kernel_size=[1, 3, 3], stride=[1, 1, 1], padding=[0, 1, 1], dilation=[1, 1, 1], bias=False)\n",
      "        (b_bn): BatchNorm3d(256, eps=1e-05, momentum=0.1, affine=True, track_running_stats=True)\n",
      "        (b_relu): ReLU(inplace=True)\n",
      "        (c): Conv3d(256, 1024, kernel_size=[1, 1, 1], stride=[1, 1, 1], padding=[0, 0, 0], bias=False)\n",
      "        (c_bn): BatchNorm3d(1024, eps=1e-05, momentum=0.1, affine=True, track_running_stats=True)\n",
      "      )\n",
      "      (relu): ReLU(inplace=True)\n",
      "    )\n",
      "    (pathway0_res3): ResBlock(\n",
      "      (branch2): BottleneckTransform(\n",
      "        (a): Conv3d(1024, 256, kernel_size=[1, 1, 1], stride=[1, 1, 1], padding=[0, 0, 0], bias=False)\n",
      "        (a_bn): BatchNorm3d(256, eps=1e-05, momentum=0.1, affine=True, track_running_stats=True)\n",
      "        (a_relu): ReLU(inplace=True)\n",
      "        (b): Conv3d(256, 256, kernel_size=[1, 3, 3], stride=[1, 1, 1], padding=[0, 1, 1], dilation=[1, 1, 1], bias=False)\n",
      "        (b_bn): BatchNorm3d(256, eps=1e-05, momentum=0.1, affine=True, track_running_stats=True)\n",
      "        (b_relu): ReLU(inplace=True)\n",
      "        (c): Conv3d(256, 1024, kernel_size=[1, 1, 1], stride=[1, 1, 1], padding=[0, 0, 0], bias=False)\n",
      "        (c_bn): BatchNorm3d(1024, eps=1e-05, momentum=0.1, affine=True, track_running_stats=True)\n",
      "      )\n",
      "      (relu): ReLU(inplace=True)\n",
      "    )\n",
      "    (pathway0_res4): ResBlock(\n",
      "      (branch2): BottleneckTransform(\n",
      "        (a): Conv3d(1024, 256, kernel_size=[3, 1, 1], stride=[1, 1, 1], padding=[1, 0, 0], bias=False)\n",
      "        (a_bn): BatchNorm3d(256, eps=1e-05, momentum=0.1, affine=True, track_running_stats=True)\n",
      "        (a_relu): ReLU(inplace=True)\n",
      "        (b): Conv3d(256, 256, kernel_size=[1, 3, 3], stride=[1, 1, 1], padding=[0, 1, 1], dilation=[1, 1, 1], bias=False)\n",
      "        (b_bn): BatchNorm3d(256, eps=1e-05, momentum=0.1, affine=True, track_running_stats=True)\n",
      "        (b_relu): ReLU(inplace=True)\n",
      "        (c): Conv3d(256, 1024, kernel_size=[1, 1, 1], stride=[1, 1, 1], padding=[0, 0, 0], bias=False)\n",
      "        (c_bn): BatchNorm3d(1024, eps=1e-05, momentum=0.1, affine=True, track_running_stats=True)\n",
      "      )\n",
      "      (relu): ReLU(inplace=True)\n",
      "    )\n",
      "    (pathway0_res5): ResBlock(\n",
      "      (branch2): BottleneckTransform(\n",
      "        (a): Conv3d(1024, 256, kernel_size=[1, 1, 1], stride=[1, 1, 1], padding=[0, 0, 0], bias=False)\n",
      "        (a_bn): BatchNorm3d(256, eps=1e-05, momentum=0.1, affine=True, track_running_stats=True)\n",
      "        (a_relu): ReLU(inplace=True)\n",
      "        (b): Conv3d(256, 256, kernel_size=[1, 3, 3], stride=[1, 1, 1], padding=[0, 1, 1], dilation=[1, 1, 1], bias=False)\n",
      "        (b_bn): BatchNorm3d(256, eps=1e-05, momentum=0.1, affine=True, track_running_stats=True)\n",
      "        (b_relu): ReLU(inplace=True)\n",
      "        (c): Conv3d(256, 1024, kernel_size=[1, 1, 1], stride=[1, 1, 1], padding=[0, 0, 0], bias=False)\n",
      "        (c_bn): BatchNorm3d(1024, eps=1e-05, momentum=0.1, affine=True, track_running_stats=True)\n",
      "      )\n",
      "      (relu): ReLU(inplace=True)\n",
      "    )\n",
      "  )\n",
      "  (s5): ResStage(\n",
      "    (pathway0_res0): ResBlock(\n",
      "      (branch1): Conv3d(1024, 2048, kernel_size=(1, 1, 1), stride=[1, 2, 2], bias=False)\n",
      "      (branch1_bn): BatchNorm3d(2048, eps=1e-05, momentum=0.1, affine=True, track_running_stats=True)\n",
      "      (branch2): BottleneckTransform(\n",
      "        (a): Conv3d(1024, 512, kernel_size=[1, 1, 1], stride=[1, 1, 1], padding=[0, 0, 0], bias=False)\n",
      "        (a_bn): BatchNorm3d(512, eps=1e-05, momentum=0.1, affine=True, track_running_stats=True)\n",
      "        (a_relu): ReLU(inplace=True)\n",
      "        (b): Conv3d(512, 512, kernel_size=[1, 3, 3], stride=[1, 2, 2], padding=[0, 1, 1], dilation=[1, 1, 1], bias=False)\n",
      "        (b_bn): BatchNorm3d(512, eps=1e-05, momentum=0.1, affine=True, track_running_stats=True)\n",
      "        (b_relu): ReLU(inplace=True)\n",
      "        (c): Conv3d(512, 2048, kernel_size=[1, 1, 1], stride=[1, 1, 1], padding=[0, 0, 0], bias=False)\n",
      "        (c_bn): BatchNorm3d(2048, eps=1e-05, momentum=0.1, affine=True, track_running_stats=True)\n",
      "      )\n",
      "      (relu): ReLU(inplace=True)\n",
      "    )\n",
      "    (pathway0_res1): ResBlock(\n",
      "      (branch2): BottleneckTransform(\n",
      "        (a): Conv3d(2048, 512, kernel_size=[3, 1, 1], stride=[1, 1, 1], padding=[1, 0, 0], bias=False)\n",
      "        (a_bn): BatchNorm3d(512, eps=1e-05, momentum=0.1, affine=True, track_running_stats=True)\n",
      "        (a_relu): ReLU(inplace=True)\n",
      "        (b): Conv3d(512, 512, kernel_size=[1, 3, 3], stride=[1, 1, 1], padding=[0, 1, 1], dilation=[1, 1, 1], bias=False)\n",
      "        (b_bn): BatchNorm3d(512, eps=1e-05, momentum=0.1, affine=True, track_running_stats=True)\n",
      "        (b_relu): ReLU(inplace=True)\n",
      "        (c): Conv3d(512, 2048, kernel_size=[1, 1, 1], stride=[1, 1, 1], padding=[0, 0, 0], bias=False)\n",
      "        (c_bn): BatchNorm3d(2048, eps=1e-05, momentum=0.1, affine=True, track_running_stats=True)\n",
      "      )\n",
      "      (relu): ReLU(inplace=True)\n",
      "    )\n",
      "    (pathway0_res2): ResBlock(\n",
      "      (branch2): BottleneckTransform(\n",
      "        (a): Conv3d(2048, 512, kernel_size=[1, 1, 1], stride=[1, 1, 1], padding=[0, 0, 0], bias=False)\n",
      "        (a_bn): BatchNorm3d(512, eps=1e-05, momentum=0.1, affine=True, track_running_stats=True)\n",
      "        (a_relu): ReLU(inplace=True)\n",
      "        (b): Conv3d(512, 512, kernel_size=[1, 3, 3], stride=[1, 1, 1], padding=[0, 1, 1], dilation=[1, 1, 1], bias=False)\n",
      "        (b_bn): BatchNorm3d(512, eps=1e-05, momentum=0.1, affine=True, track_running_stats=True)\n",
      "        (b_relu): ReLU(inplace=True)\n",
      "        (c): Conv3d(512, 2048, kernel_size=[1, 1, 1], stride=[1, 1, 1], padding=[0, 0, 0], bias=False)\n",
      "        (c_bn): BatchNorm3d(2048, eps=1e-05, momentum=0.1, affine=True, track_running_stats=True)\n",
      "      )\n",
      "      (relu): ReLU(inplace=True)\n",
      "    )\n",
      "  )\n",
      "  (head): ResNetBasicHead(\n",
      "    (pathway0_avgpool): AvgPool3d(kernel_size=[4, 7, 7], stride=1, padding=0)\n",
      "    (dropout): Dropout(p=0.5, inplace=False)\n",
      "    (projection): Linear(in_features=2048, out_features=51, bias=True)\n",
      "    (act): Softmax(dim=4)\n",
      "  )\n",
      ")\n",
      "pyvideoai.utils.misc:   53 - INFO - Params: 27,328,371\n",
      "pyvideoai.utils.misc:   54 - INFO - Mem: 104.4853515625 MiB\n",
      "pyvideoai.utils.misc:   55 - INFO - nvidia-smi\n",
      "pyvideoai.utils.misc:   56 - INFO - Mon Jun 21 04:23:57 2021       \n",
      "+-----------------------------------------------------------------------------+\n",
      "| NVIDIA-SMI 460.84       Driver Version: 460.84       CUDA Version: 11.2     |\n",
      "|-------------------------------+----------------------+----------------------+\n",
      "| GPU  Name        Persistence-M| Bus-Id        Disp.A | Volatile Uncorr. ECC |\n",
      "| Fan  Temp  Perf  Pwr:Usage/Cap|         Memory-Usage | GPU-Util  Compute M. |\n",
      "|                               |                      |               MIG M. |\n",
      "|===============================+======================+======================|\n",
      "|   0  GeForce RTX 3090    Off  | 00000000:23:00.0 Off |                  N/A |\n",
      "|  0%   46C    P2   119W / 370W |   1213MiB / 24268MiB |      0%      Default |\n",
      "|                               |                      |                  N/A |\n",
      "+-------------------------------+----------------------+----------------------+\n",
      "|   1  GeForce RTX 3090    Off  | 00000000:2D:00.0 Off |                  N/A |\n",
      "| 44%   55C    P0    43W / 370W |      0MiB / 24251MiB |      0%      Default |\n",
      "|                               |                      |                  N/A |\n",
      "+-------------------------------+----------------------+----------------------+\n",
      "                                                                               \n",
      "+-----------------------------------------------------------------------------+\n",
      "| Processes:                                                                  |\n",
      "|  GPU   GI   CI        PID   Type   Process name                  GPU Memory |\n",
      "|        ID   ID                                                   Usage      |\n",
      "|=============================================================================|\n",
      "|    0   N/A  N/A   2309718      C   ...3/envs/videoai/bin/python     1211MiB |\n",
      "+-----------------------------------------------------------------------------+\n",
      "\n",
      "pyvideoai.utils.loader:   93 - INFO - Loading weights: /home/kiyoon/project/PyVideoAI/data/pretrained/hmdb/i3d_resnet50/crop224_lr0001_batch8_8x8_largejit_plateau_1scrop5tcrop_split1-epoch_0199.pth\n",
      "pyvideoai.val_multiprocess:  188 - INFO - cfg.criterion not defined. Using CrossEntropyLoss()\n"
     ]
    },
    {
     "name": "stdout",
     "output_type": "stream",
     "text": [
      " One-clip Eval Iter:  192/ 192 - Sample:   1530/  1530 - ETA:    0s - val_loss: 3.3207 - val_acc: 0.7033        \r"
     ]
    },
    {
     "name": "stderr",
     "output_type": "stream",
     "text": [
      "pyvideoai.train_and_val:  324 - INFO -  One-clip Eval Iter:  192/ 192 - Sample:   1530/  1530 - 16s - val_loss: 3.3207 - val_acc: 0.7033\n",
      "pyvideoai.val_multiprocess:  223 - SUCCESS - Finished evaluation\n"
     ]
    },
    {
     "name": "stdout",
     "output_type": "stream",
     "text": [
      "Saving predictions to: /storage/kiyoon/experiments/hmdb/i3d_resnet50/crop224_batch8_8x8_1scrop5tcrop_hmdbsplit1pretrained/predictions/pretrained_oneclipval.pkl\n"
     ]
    }
   ],
   "source": [
    "# If you have more than 1 GPUs, go ahead and change CUDA_VISIBLE_DEVICES to the comma-separated GPU indices, and --local_world_size to the number of GPUs.\n",
    "# This will increase the batch size (1 GPU=size 8, 2 GPU=size 16, ...) and speed up the learning.\n",
    "# However, Jupyter Notebook doesn't seem to support stdout printing with multiple processes. Try using normal shell.\n",
    "\n",
    "# -p will save the predictions into a pickle file.\n",
    "# Adding `-m multicrop` will make it perform multicrop evaluation.\n",
    "%env CUDA_VISIBLE_DEVICES=0\n",
    "%run \"$PYVIDEOAI_DIR/tools/run_val.py\" --local_world_size 1 -D hmdb -M i3d_resnet50 -N crop224_batch8_8x8_1scrop5tcrop_hmdbsplit1pretrained -p"
   ]
  },
  {
   "cell_type": "markdown",
   "id": "a8c2c99b-28b0-4b5a-b8d5-ff8ec3ecd8cd",
   "metadata": {},
   "source": [
    "# What to do with the saved predictions\n",
    "Many tools provided in the framework allows you to analyse performance using the saved predictions.  \n",
    "We list some examples below.\n",
    "\n",
    "## Loading the predictions (as raw data)\n",
    "Sometimes you want to load the raw predictions and run your own code to analyse.  \n",
    "Here's how to load the pickled predictions."
   ]
  },
  {
   "cell_type": "code",
   "execution_count": 2,
   "id": "a844bc67-5f6d-4e25-9757-f133de461507",
   "metadata": {},
   "outputs": [
    {
     "name": "stdout",
     "output_type": "stream",
     "text": [
      "Predictions file path: /storage/kiyoon/experiments/hmdb/i3d_resnet50/crop224_batch8_8x8_1scrop5tcrop_hmdbsplit1pretrained/predictions/pretrained_oneclipval.pkl\n",
      "Shape of video_ids (NUM_VAL_SAMPLES,): (1530,)\n",
      "Shape of video_labels (NUM_VAL_SAMPLES,): (1530,)\n",
      "Shape of video_predictions (NUM_VAL_SAMPLES, NUM_CLASSES): (1530, 51)\n"
     ]
    }
   ],
   "source": [
    "from pyvideoai.config import DEFAULT_EXPERIMENT_ROOT\n",
    "from experiment_utils.experiment_builder import ExperimentBuilder\n",
    "import os\n",
    "import pickle\n",
    "\n",
    "# ExperimentBuilder quickly navigates you to the correct directory path of the experiment\n",
    "exp = ExperimentBuilder(DEFAULT_EXPERIMENT_ROOT, 'hmdb', 'i3d_resnet50', 'crop224_batch8_8x8_1scrop5tcrop_hmdbsplit1pretrained')\n",
    "predictions_path = os.path.join(exp.predictions_dir, 'pretrained_oneclipval.pkl')\n",
    "print(f'Predictions file path: {predictions_path}')\n",
    "\n",
    "with open(predictions_path, 'rb') as f:\n",
    "    predictions = pickle.load(f)\n",
    "\n",
    "# Predictions are saved as dictionary of numpy arrays\n",
    "print(f\"Shape of video_ids (NUM_VAL_SAMPLES,): {predictions['video_ids'].shape}\")\n",
    "print(f\"Shape of video_labels (NUM_VAL_SAMPLES,): {predictions['video_labels'].shape}\")\n",
    "print(f\"Shape of video_predictions (NUM_VAL_SAMPLES, NUM_CLASSES): {predictions['video_predictions'].shape}\")"
   ]
  },
  {
   "cell_type": "markdown",
   "id": "232475a9-5430-48e8-b41f-383982b0aa2b",
   "metadata": {},
   "source": [
    "## Evaluate accuracy again using the saved predictions"
   ]
  },
  {
   "cell_type": "code",
   "execution_count": 3,
   "id": "ec3ed137-b421-44d4-bfa7-d9eef13e334d",
   "metadata": {},
   "outputs": [
    {
     "name": "stdout",
     "output_type": "stream",
     "text": [
      "env: CUDA_VISIBLE_DEVICES=\n",
      "0.7032679738562092\n"
     ]
    }
   ],
   "source": [
    "# No GPU required\n",
    "%env CUDA_VISIBLE_DEVICES=\n",
    "%run \"$PYVIDEOAI_DIR/tools/evaluate_using_saved_pred.py\" -D hmdb -M i3d_resnet50 -N crop224_batch8_8x8_1scrop5tcrop_hmdbsplit1pretrained"
   ]
  },
  {
   "cell_type": "markdown",
   "id": "204f8748-581f-4886-8ea9-3961924afdcd",
   "metadata": {},
   "source": [
    "## Per-class accuracy and confusion matrix\n",
    "\n",
    "Running the code below will generate confusion matrices of various sorting methods and shrinking classes with few validation examples.  \n",
    "It will save as CSV, image (PNG & PDF) formats, and to the TensorBoard."
   ]
  },
  {
   "cell_type": "code",
   "execution_count": 71,
   "id": "f2f5883c-5c4a-46ef-96fb-7d9c485edb30",
   "metadata": {},
   "outputs": [
    {
     "name": "stdout",
     "output_type": "stream",
     "text": [
      "[INFO: experiment_builder.py:  109]: Telegram bot not initialised.\n",
      "[INFO: generate_confusion_matrix.py:  265]: train_class_frequency\n",
      "[INFO: generate_confusion_matrix.py:  189]: Saving confusion matrix to /storage/kiyoon/experiments/hmdb/i3d_resnet50/crop224_batch8_8x8_1scrop5tcrop_hmdbsplit1pretrained/plots/per_class_accuracy/sort_train_class_frequency\n",
      "[INFO: generate_confusion_matrix.py:  194]: Saving confusion matrix to TensorBoard tagged sort_train_class_frequency\n",
      "[INFO: generate_confusion_matrix.py:  265]: val_class_frequency\n",
      "[INFO: generate_confusion_matrix.py:  189]: Saving confusion matrix to /storage/kiyoon/experiments/hmdb/i3d_resnet50/crop224_batch8_8x8_1scrop5tcrop_hmdbsplit1pretrained/plots/per_class_accuracy/sort_val_class_frequency\n",
      "[INFO: generate_confusion_matrix.py:  194]: Saving confusion matrix to TensorBoard tagged sort_val_class_frequency\n",
      "[INFO: generate_confusion_matrix.py:  265]: val_per_class_accuracy\n",
      "[INFO: generate_confusion_matrix.py:  189]: Saving confusion matrix to /storage/kiyoon/experiments/hmdb/i3d_resnet50/crop224_batch8_8x8_1scrop5tcrop_hmdbsplit1pretrained/plots/per_class_accuracy/sort_val_per_class_accuracy\n",
      "[INFO: generate_confusion_matrix.py:  194]: Saving confusion matrix to TensorBoard tagged sort_val_per_class_accuracy\n",
      "[INFO: generate_confusion_matrix.py:  265]: train_class_frequency\n",
      "[INFO: generate_confusion_matrix.py:  189]: Saving confusion matrix to /storage/kiyoon/experiments/hmdb/i3d_resnet50/crop224_batch8_8x8_1scrop5tcrop_hmdbsplit1pretrained/plots/per_class_accuracy/sort_train_class_frequency\n",
      "[INFO: generate_confusion_matrix.py:  194]: Saving confusion matrix to TensorBoard tagged shrinked_sort_train_class_frequency\n",
      "[INFO: generate_confusion_matrix.py:  265]: val_class_frequency\n",
      "[INFO: generate_confusion_matrix.py:  189]: Saving confusion matrix to /storage/kiyoon/experiments/hmdb/i3d_resnet50/crop224_batch8_8x8_1scrop5tcrop_hmdbsplit1pretrained/plots/per_class_accuracy/sort_val_class_frequency\n",
      "[INFO: generate_confusion_matrix.py:  194]: Saving confusion matrix to TensorBoard tagged shrinked_sort_val_class_frequency\n",
      "[INFO: generate_confusion_matrix.py:  265]: val_per_class_accuracy\n",
      "[INFO: generate_confusion_matrix.py:  189]: Saving confusion matrix to /storage/kiyoon/experiments/hmdb/i3d_resnet50/crop224_batch8_8x8_1scrop5tcrop_hmdbsplit1pretrained/plots/per_class_accuracy/sort_val_per_class_accuracy\n",
      "[INFO: generate_confusion_matrix.py:  194]: Saving confusion matrix to TensorBoard tagged shrinked_sort_val_per_class_accuracy\n"
     ]
    }
   ],
   "source": [
    "%run \"$PYVIDEOAI_DIR/tools/visualisations/generate_confusion_matrix.py\" -D hmdb -M i3d_resnet50 -N crop224_batch8_8x8_1scrop5tcrop_hmdbsplit1pretrained"
   ]
  },
  {
   "cell_type": "code",
   "execution_count": 73,
   "id": "8fc1e030-07d4-45bb-a719-e08a81c82042",
   "metadata": {},
   "outputs": [
    {
     "data": {
      "image/png": "[encoded data removed]",
      "text/plain": [
       "<IPython.core.display.Image object>"
      ]
     },
     "execution_count": 73,
     "metadata": {},
     "output_type": "execute_result"
    }
   ],
   "source": [
    "# Preview confusion matrix\n",
    "png_path = os.path.join(exp.plots_dir, 'per_class_accuracy', 'sort_train_class_frequency', 'shrinked_confusion.png')\n",
    "from IPython.display import Image\n",
    "Image(filename=png_path)"
   ]
  },
  {
   "cell_type": "code",
   "execution_count": 69,
   "id": "a430ca43-d608-4aa5-9799-c5fc7ac63a1b",
   "metadata": {},
   "outputs": [
    {
     "name": "stdout",
     "output_type": "stream",
     "text": [
      "class_key,accuracy (%),num_correct_pred,num_samples_in_val,num_samples_in_train\n",
      "wave,26.666666666666668,8,30,70\n",
      "fall_floor,43.333333333333336,13,30,70\n",
      "kiss,80.0,24,30,70\n",
      "kick_ball,73.33333333333333,22,30,70\n",
      "kick,53.333333333333336,16,30,70\n",
      "jump,26.666666666666668,8,30,70\n",
      "hug,83.33333333333334,25,30,70\n",
      "hit,80.0,24,30,70\n",
      "handstand,76.66666666666667,23,30,70\n"
     ]
    }
   ],
   "source": [
    "# Preview per_class_accuracy.csv\n",
    "csv_path = os.path.join(exp.plots_dir, 'per_class_accuracy', 'sort_train_class_frequency', 'shrinked_per_class_accuracy.csv')\n",
    "\n",
    "!head -10 \"$csv_path\""
   ]
  }
 ],
 "metadata": {
  "kernelspec": {
   "display_name": "Python 3",
   "language": "python",
   "name": "python3"
  },
  "language_info": {
   "codemirror_mode": {
    "name": "ipython",
    "version": 3
   },
   "file_extension": ".py",
   "mimetype": "text/x-python",
   "name": "python",
   "nbconvert_exporter": "python",
   "pygments_lexer": "ipython3",
   "version": "3.8.10"
  }
 },
 "nbformat": 4,
 "nbformat_minor": 5
}
